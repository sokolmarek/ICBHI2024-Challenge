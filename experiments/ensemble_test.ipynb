{
 "cells": [
  {
   "metadata": {
    "ExecuteTime": {
     "end_time": "2024-08-30T16:47:53.181483Z",
     "start_time": "2024-08-30T16:47:52.809361Z"
    }
   },
   "cell_type": "code",
   "source": [
    "import numpy as np\n",
    "\n",
    "from sklearn.metrics import accuracy_score\n",
    "\n",
    "cnn_preds = np.load(\"results/CNN_v2_preds.npy\")\n",
    "gcn_preds = np.load(\"results/GCN_v2_preds.npy\")"
   ],
   "id": "de3b2e373ae81c15",
   "outputs": [],
   "execution_count": 11
  },
  {
   "metadata": {
    "ExecuteTime": {
     "end_time": "2024-08-30T16:48:06.361499Z",
     "start_time": "2024-08-30T16:48:06.340553Z"
    }
   },
   "cell_type": "code",
   "source": [
    "s, e = 15, 25\n",
    "a, b = 0, 246\n",
    "data_test = np.load(\"../data/processed/test_img.npy\", allow_pickle=True).item()\n",
    "test_idx = np.where(~np.isnan(data_test[\"class\"]))[0]\n",
    "\n",
    "y_test = data_test[\"class\"][test_idx].astype(int)\n",
    "y_test_level = data_test[\"level\"][test_idx]\n",
    "fmri_test = np.swapaxes(data_test[\"fMRI\"][:, a:b, s:e], 1, 2)\n",
    "bio_test = np.concatenate((data_test[\"RSP\"][:], data_test[\"PPG\"][:]), axis=-1)\n",
    "\n",
    "print(f\"fMRI shape: {fmri_test.shape}\")\n",
    "print(f\"Bio shape: {bio_test.shape}\")\n",
    "print(f\"Test target shape: {y_test.shape}\")\n",
    "print(\"Level shape:\", y_test_level.shape)\n",
    "print(np.unique(y_test))"
   ],
   "id": "c6ee21145c5e56a2",
   "outputs": [
    {
     "name": "stdout",
     "output_type": "stream",
     "text": [
      "fMRI shape: (120, 10, 246)\n",
      "Bio shape: (120, 64, 64, 4)\n",
      "Test target shape: (36,)\n",
      "Level shape: (36,)\n",
      "[-1  0  1]\n"
     ]
    }
   ],
   "execution_count": 13
  },
  {
   "metadata": {},
   "cell_type": "code",
   "outputs": [],
   "execution_count": null,
   "source": [
    "# Test Acc. 0.8056\n",
    "p = np.mean([cnn_preds[7], gcn_preds[4]], axis=0)\n",
    "p = np.argmax(p, axis=-1)[test_idx] - 1\n",
    "acc = accuracy_score(y_test, p)\n",
    "print(acc)"
   ],
   "id": "836c2653d6f93d25"
  },
  {
   "metadata": {},
   "cell_type": "code",
   "outputs": [],
   "execution_count": null,
   "source": [
    "# Test Acc. 0.8333\n",
    "p = np.mean([cnn_preds[0], gcn_preds[4]], axis=0)\n",
    "p = np.argmax(p, axis=-1)[test_idx] - 1\n",
    "acc = accuracy_score(y_test, p)\n",
    "print(acc)"
   ],
   "id": "9ac212a4be2f75d6"
  }
 ],
 "metadata": {
  "kernelspec": {
   "display_name": "Python 3",
   "language": "python",
   "name": "python3"
  },
  "language_info": {
   "codemirror_mode": {
    "name": "ipython",
    "version": 2
   },
   "file_extension": ".py",
   "mimetype": "text/x-python",
   "name": "python",
   "nbconvert_exporter": "python",
   "pygments_lexer": "ipython2",
   "version": "2.7.6"
  }
 },
 "nbformat": 4,
 "nbformat_minor": 5
}
